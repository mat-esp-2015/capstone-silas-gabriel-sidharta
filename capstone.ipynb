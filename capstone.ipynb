{
 "cells": [
  {
   "cell_type": "markdown",
   "metadata": {},
   "source": [
    "# Lendo dados de geociência"
   ]
  },
  {
   "cell_type": "markdown",
   "metadata": {},
   "source": [
    "## License\n",
    "\n",
    "All content can be freely used and adapted under the terms of the \n",
    "[Creative Commons Attribution 4.0 International License](http://creativecommons.org/licenses/by/4.0/).\n",
    "\n",
    "![Creative Commons License](https://i.creativecommons.org/l/by/4.0/88x31.png)"
   ]
  },
  {
   "cell_type": "markdown",
   "metadata": {},
   "source": [
    "## Imports\n",
    "\n",
    "Coloque **todos** os `import` na célula abaixo. Não se esqueça do `%matplotlib inline` para que os gráficos apareçam no notebook."
   ]
  },
  {
   "cell_type": "code",
   "execution_count": 169,
   "metadata": {
    "collapsed": true
   },
   "outputs": [],
   "source": [
    "# carregar as bibliotecas do matplotlib, do numpy e do math além de habilitar o matplotlib inline\n",
    "import matplotlib.pyplot as plt\n",
    "import numpy as np\n",
    "import math\n",
    "%matplotlib inline"
   ]
  },
  {
   "cell_type": "markdown",
   "metadata": {},
   "source": [
    "## IMPORTANTE\n",
    "\n",
    "Agora que vocês sabem técnicas de programação defensiva, eu espero que todo o código que vocês fizerem abaixo utilizem essas técnicas. Crie docstrings para suas funções, cheque as entradas (quando for possível) e cheque as saídas. **Não esqueçam dos comentários**."
   ]
  },
  {
   "cell_type": "markdown",
   "metadata": {},
   "source": [
    "## Temperatura no Rio de Janeiro\n",
    "\n",
    "O arquivo `data/23.31S-42.82W-TAVG-Trend.txt` contém dados de temperatura média mensal para a cidade do Rio de Janeiro. O arquivo também contém médias móveis anual, 5, 10 e 20 anos. Esses dados foram baixados do site Berkeley Earth (http://berkeleyearth.lbl.gov/locations/23.31S-42.82W).\n",
    "\n",
    "### Tarefa\n",
    "\n",
    "Faça duas funções, uma que lê os dados de temperatura mensal, outra que lê os dados da média móvel anual.\n",
    "As duas funções devem:\n",
    "\n",
    "* Receber como entrada **somente** o nome do arquivo de dados.\n",
    "* Retornar duas listas: uma com as datas referentes aos dados e outra com os dados de temperatura.\n",
    "* As datas retornadas devem ser em anos decimais. Ex: Janeiro de 1984 seria 1984.0833333333333 (1984 + 1/12).\n",
    "* Datas sem valores de temperatura (NaN) devem ser ignoradas (não incluidas nas listas).\n",
    "\n",
    "Utilize suas funções para carregar os dados e fazer um gráfico da temperatura média mensal e média movel anual pelo tempo."
   ]
  },
  {
   "cell_type": "code",
   "execution_count": 171,
   "metadata": {
    "collapsed": false
   },
   "outputs": [],
   "source": [
    "arquivo = open('data/23.31S-42.82W-TAVG-Trend.txt')\n"
   ]
  },
  {
   "cell_type": "code",
   "execution_count": 88,
   "metadata": {
    "collapsed": true
   },
   "outputs": [],
   "source": [
    "a = \"% kgkgkgkjhkjh kjhkjhkjhkuhkfhthgd\"\n",
    "b = \"   1880 1 5678  9008  4467   9008\"\n",
    "c = \"             \""
   ]
  },
  {
   "cell_type": "code",
   "execution_count": 89,
   "metadata": {
    "collapsed": false
   },
   "outputs": [
    {
     "data": {
      "text/plain": [
       "[]"
      ]
     },
     "execution_count": 89,
     "metadata": {},
     "output_type": "execute_result"
    }
   ],
   "source": [
    "c.split()"
   ]
  },
  {
   "cell_type": "code",
   "execution_count": 90,
   "metadata": {
    "collapsed": false
   },
   "outputs": [
    {
     "name": "stdout",
     "output_type": "stream",
     "text": [
      "Yeah\n"
     ]
    }
   ],
   "source": [
    "if a[0] =='%':\n",
    "    print(\"Yeah\")\n",
    "else:\n",
    "    print(\"Meh\")"
   ]
  },
  {
   "cell_type": "code",
   "execution_count": 91,
   "metadata": {
    "collapsed": false
   },
   "outputs": [
    {
     "data": {
      "text/plain": [
       "'             '"
      ]
     },
     "execution_count": 91,
     "metadata": {},
     "output_type": "execute_result"
    }
   ],
   "source": [
    "c"
   ]
  },
  {
   "cell_type": "code",
   "execution_count": 92,
   "metadata": {
    "collapsed": false
   },
   "outputs": [
    {
     "data": {
      "text/plain": [
       "'   1880 1 5678  9008  4467   9008'"
      ]
     },
     "execution_count": 92,
     "metadata": {},
     "output_type": "execute_result"
    }
   ],
   "source": [
    "b"
   ]
  },
  {
   "cell_type": "code",
   "execution_count": 93,
   "metadata": {
    "collapsed": false
   },
   "outputs": [],
   "source": [
    "A = b.split()"
   ]
  },
  {
   "cell_type": "code",
   "execution_count": 94,
   "metadata": {
    "collapsed": false
   },
   "outputs": [
    {
     "data": {
      "text/plain": [
       "'1880'"
      ]
     },
     "execution_count": 94,
     "metadata": {},
     "output_type": "execute_result"
    }
   ],
   "source": [
    "A[0]"
   ]
  },
  {
   "cell_type": "code",
   "execution_count": 95,
   "metadata": {
    "collapsed": false
   },
   "outputs": [
    {
     "data": {
      "text/plain": [
       "1880.0833333333333"
      ]
     },
     "execution_count": 95,
     "metadata": {},
     "output_type": "execute_result"
    }
   ],
   "source": [
    "ano = float(A[0])\n",
    "mes = float(A[1])\n",
    "data = ano + mes/12 \n",
    "data"
   ]
  },
  {
   "cell_type": "code",
   "execution_count": 175,
   "metadata": {
    "collapsed": false
   },
   "outputs": [
    {
     "data": {
      "text/plain": [
       "<matplotlib.legend.Legend at 0x7fcbcc2f3b38>"
      ]
     },
     "execution_count": 175,
     "metadata": {},
     "output_type": "execute_result"
    },
    {
     "data": {
      "image/png": "[encoded data removed]",
      "text/plain": [
       "<matplotlib.figure.Figure at 0x7fcbcc3282e8>"
      ]
     },
     "metadata": {},
     "output_type": "display_data"
    }
   ],
   "source": [
    "datas_dados = [] # cria-se uma lista vazia para ser utilizada posteriormente, adicionando-se dados nela\n",
    "dados_temperatura = [] # cria-se uma lista vazia para ser utilizada posteriormente, adicionando-se dados nela\n",
    "media_anual = [] #cria-se uma lista vazia para ser utilizada posteriormente, adicionando-se dados nela\n",
    "arquivo = open('data/23.31S-42.82W-TAVG-Trend.txt') # abrir o arquivo 'data/23.31S-42.82W-TAVG-Trend.txt' e\n",
    "# nomeando de 'arquivo' o arquivo aberto (mnemômico)\n",
    "for linha in arquivo: # utilizamos o comando 'for' e 'in' para percorrer com a variável 'linha' o arquivo aberto\n",
    "    if linha[0] != '%' and linha[0]!= '\\n' : # restringimos as linhas que terão os dados utilizados, não usaremos as\n",
    "        # linhas que contem (%) e (\\n = espaços vazios)\n",
    "        blocos = linha.split( )  # separamos as linhas em blocos que contém as informações que queremos\n",
    "        if blocos[2] != 'NaN': # restringimos as informações dos blocos que serão utilizados, não utilizaremos os\n",
    "            # blocos que contem (NaN = informção perdida)\n",
    "            ano = float(blocos[0]) # transformamos as informações do bloco[0] de texto para número real e atribuimos\n",
    "            # esse valor a variável ano\n",
    "            mes = float(blocos[1]) # transformamos as informações do bloco[1] de texto para número real e atribuimos\n",
    "            # esse valor a variável mês\n",
    "            temperatura = float(blocos[2]) + 24.01 # transformamos as informações do bloco[2] de texto para número\n",
    "            # real e atribuimos esse valor a variável temperatura e adicionamos 24.01°C que foi a temperatura média \n",
    "            # registrada, variando +/- por esse valor\n",
    "            anual = float(blocos[4]) + 24.01 # transformamos as informações do bloco[4] de texto para número\n",
    "            # real e atribuimos esse valor a variável anual e adicionamos 24.01°C que foi a temperatura média registrada,\n",
    "            # variando +/- por esse valor\n",
    "            data = ano + mes/12 # juntamos a variável ano e mês para usarmos uma única variável 'data' assim o mês\n",
    "            # passa a ser uma fração do ano\n",
    "            datas_dados.append(data) # preenchemos a lista datas_dados criada anteriormente com os resultados obtidos\n",
    "            # em 'data'\n",
    "            dados_temperatura.append(temperatura) # preenchemos a lista dados_temperatura criada anteriormente com os\n",
    "            # resultados obtidos em 'temperatura'\n",
    "            media_anual.append(anual) # preenchemos a lista media_anual criada anteriormente com os resultados obtidos\n",
    "            # em anual\n",
    "\n",
    "plt.figure(figsize = [7, 4]) # comando para plotar um gráfico a ser definido\n",
    "plt.plot(datas_dados, dados_temperatura, '.k', label = 'Média mensal') # plotar dados_temperatura em funcao de\n",
    "# datas_dados, nomeando este resultado de Média mensal\n",
    "plt.plot(datas_dados, media_anual, 'r', label = 'Média móvel anual', linewidth = 2) # plotar media_anual em funcao de datas_dados\n",
    "# nomeando este resultado de Média móvel anual\n",
    "plt.xlabel('Ano') # chamar a abscissa do gráfico de Ano\n",
    "plt.ylabel('Temperatura Média (°C)') # chamar a ordenada do gráfico de Temperatura Média (°C)\n",
    "plt.xlim(1830, 2015) # definir o intervalo dos dados estudados no eixo da abscissa\n",
    "plt.grid(ls = ':', which = 'major', axis = 'both') # plotar a grade do gráfico com pontos\n",
    "plt.legend(loc = 'upper left', fontsize = 'large' ) # plotar a legenda do gráfico\n"
   ]
  },
  {
   "cell_type": "code",
   "execution_count": 124,
   "metadata": {
    "collapsed": false
   },
   "outputs": [
    {
     "name": "stdout",
     "output_type": "stream",
     "text": [
      "0.655\n"
     ]
    }
   ],
   "source": [
    "print(temperatura)"
   ]
  },
  {
   "cell_type": "code",
   "execution_count": 97,
   "metadata": {
    "collapsed": false
   },
   "outputs": [
    {
     "name": "stdout",
     "output_type": "stream",
     "text": [
      "nan\n"
     ]
    }
   ],
   "source": [
    "texto = float('NaN')\n",
    "print(texto)"
   ]
  },
  {
   "cell_type": "code",
   "execution_count": 13,
   "metadata": {
    "collapsed": false
   },
   "outputs": [
    {
     "name": "stdout",
     "output_type": "stream",
     "text": [
      "jlkh \n",
      " ghgfg\n"
     ]
    }
   ],
   "source": [
    "s = 'jlkh \\n ghgfg'\n",
    "print(s)"
   ]
  },
  {
   "cell_type": "code",
   "execution_count": 26,
   "metadata": {
    "collapsed": false
   },
   "outputs": [],
   "source": [
    "f = open('data/23.31S-42.82W-TAVG-Trend.txt')\n",
    "s = f.read()"
   ]
  },
  {
   "cell_type": "code",
   "execution_count": 27,
   "metadata": {
    "collapsed": true
   },
   "outputs": [],
   "source": [
    "f.close()"
   ]
  },
  {
   "cell_type": "code",
   "execution_count": 28,
   "metadata": {
    "collapsed": false
   },
   "outputs": [],
   "source": [
    "#print(s)"
   ]
  },
  {
   "cell_type": "code",
   "execution_count": 29,
   "metadata": {
    "collapsed": false
   },
   "outputs": [
    {
     "ename": "AttributeError",
     "evalue": "'tuple' object has no attribute 'split'",
     "output_type": "error",
     "traceback": [
      "\u001b[1;31m---------------------------------------------------------------------------\u001b[0m",
      "\u001b[1;31mAttributeError\u001b[0m                            Traceback (most recent call last)",
      "\u001b[1;32m<ipython-input-29-4f5de5fa7ebc>\u001b[0m in \u001b[0;36m<module>\u001b[1;34m()\u001b[0m\n\u001b[0;32m      1\u001b[0m \u001b[0mlinha\u001b[0m \u001b[1;33m=\u001b[0m \u001b[1;33m(\u001b[0m \u001b[1;33m)\u001b[0m\u001b[1;33m\u001b[0m\u001b[0m\n\u001b[1;32m----> 2\u001b[1;33m \u001b[0mblocos\u001b[0m \u001b[1;33m=\u001b[0m \u001b[0mlinha\u001b[0m\u001b[1;33m.\u001b[0m\u001b[0msplit\u001b[0m\u001b[1;33m(\u001b[0m \u001b[1;33m)\u001b[0m\u001b[1;33m\u001b[0m\u001b[0m\n\u001b[0m",
      "\u001b[1;31mAttributeError\u001b[0m: 'tuple' object has no attribute 'split'"
     ]
    }
   ],
   "source": [
    "linha = ( )\n",
    "blocos = linha.split( )\n"
   ]
  },
  {
   "cell_type": "code",
   "execution_count": 18,
   "metadata": {
    "collapsed": false
   },
   "outputs": [
    {
     "ename": "NameError",
     "evalue": "name 'blocos' is not defined",
     "output_type": "error",
     "traceback": [
      "\u001b[1;31m---------------------------------------------------------------------------\u001b[0m",
      "\u001b[1;31mNameError\u001b[0m                                 Traceback (most recent call last)",
      "\u001b[1;32m<ipython-input-18-d1531fa41c40>\u001b[0m in \u001b[0;36m<module>\u001b[1;34m()\u001b[0m\n\u001b[1;32m----> 1\u001b[1;33m \u001b[0mblocos\u001b[0m\u001b[1;33m[\u001b[0m\u001b[1;36m1\u001b[0m\u001b[1;33m]\u001b[0m\u001b[1;33m\u001b[0m\u001b[0m\n\u001b[0m",
      "\u001b[1;31mNameError\u001b[0m: name 'blocos' is not defined"
     ]
    }
   ],
   "source": [
    "blocos[1]"
   ]
  },
  {
   "cell_type": "code",
   "execution_count": null,
   "metadata": {
    "collapsed": true
   },
   "outputs": [],
   "source": []
  },
  {
   "cell_type": "code",
   "execution_count": null,
   "metadata": {
    "collapsed": true
   },
   "outputs": [],
   "source": []
  },
  {
   "cell_type": "markdown",
   "metadata": {},
   "source": [
    "### Resultado esperado\n",
    "\n",
    "O gráfico final deve ser parecido com o abaixo:\n",
    "\n",
    "![images/media-mensal-temp-rio.png](images/media-mensal-temp-rio.png)"
   ]
  },
  {
   "cell_type": "markdown",
   "metadata": {},
   "source": [
    "### Tarefa\n",
    "\n",
    "Faça uma função que calcule a temperatura média anual a partir das temperaturas mensais. A sua função deve:\n",
    "\n",
    "* Receber como entrada a lista das datas e a lista das temperaturas mensais.\n",
    "* Retornar duas listas: uma com os anos e outra com as temperaturas médias correspondetes.\n",
    "* Anos que não contem dados de todos os 12 meses devem ser ignorados (não incluídos nas listas retornadas).\n",
    "\n",
    "Utilize sua função para calcular a média anual. Faça um gráfico da temperatura média anual por ano junto com a média móvel anual.\n",
    "\n",
    "**Dica**: A função `math.floor` retorna o número inteiro que precede um número real. Ex: `math.floor(1984.23) == 1984`"
   ]
  },
  {
   "cell_type": "code",
   "execution_count": null,
   "metadata": {
    "collapsed": true
   },
   "outputs": [],
   "source": []
  },
  {
   "cell_type": "code",
   "execution_count": null,
   "metadata": {
    "collapsed": true
   },
   "outputs": [],
   "source": []
  },
  {
   "cell_type": "code",
   "execution_count": null,
   "metadata": {
    "collapsed": true
   },
   "outputs": [],
   "source": []
  },
  {
   "cell_type": "code",
   "execution_count": null,
   "metadata": {
    "collapsed": true
   },
   "outputs": [],
   "source": []
  },
  {
   "cell_type": "code",
   "execution_count": null,
   "metadata": {
    "collapsed": true
   },
   "outputs": [],
   "source": []
  },
  {
   "cell_type": "markdown",
   "metadata": {},
   "source": [
    "### Resultado esperado\n",
    "\n",
    "O gráfico final deve ser parecido com o abaixo:\n",
    "\n",
    "![images/media-anual-temp-rio.png](images/media-anual-temp-rio.png)"
   ]
  },
  {
   "cell_type": "markdown",
   "metadata": {},
   "source": [
    "## Tarefa Bônus\n",
    "\n",
    "Salve os dados da média anual em um arquivo CSV (comma separated values) chamado `temp-media-anual.csv`. Os valores devem ser separados por `,`. A primeira coluna deve conter os anos e a segunda as temperaturas. Esse arquivo deve estar presente em seu repositório (dê `git add` nele)."
   ]
  },
  {
   "cell_type": "code",
   "execution_count": null,
   "metadata": {
    "collapsed": true
   },
   "outputs": [],
   "source": []
  },
  {
   "cell_type": "code",
   "execution_count": null,
   "metadata": {
    "collapsed": true
   },
   "outputs": [],
   "source": []
  },
  {
   "cell_type": "code",
   "execution_count": null,
   "metadata": {
    "collapsed": true
   },
   "outputs": [],
   "source": []
  },
  {
   "cell_type": "code",
   "execution_count": null,
   "metadata": {
    "collapsed": true
   },
   "outputs": [],
   "source": []
  },
  {
   "cell_type": "code",
   "execution_count": null,
   "metadata": {
    "collapsed": true
   },
   "outputs": [],
   "source": []
  }
 ],
 "metadata": {
  "kernelspec": {
   "display_name": "Python 3",
   "language": "python",
   "name": "python3"
  },
  "language_info": {
   "codemirror_mode": {
    "name": "ipython",
    "version": 3
   },
   "file_extension": ".py",
   "mimetype": "text/x-python",
   "name": "python",
   "nbconvert_exporter": "python",
   "pygments_lexer": "ipython3",
   "version": "3.5.1"
  }
 },
 "nbformat": 4,
 "nbformat_minor": 0
}
